{
 "cells": [
  {
   "cell_type": "code",
   "execution_count": 17,
   "metadata": {},
   "outputs": [
    {
     "name": "stdout",
     "output_type": "stream",
     "text": [
      "[2021-05-17 01:28:43.095] Start to fit the model:\n",
      "[2021-05-17 01:28:43.095] Fitting cascade layer = 0 \n",
      "[2021-05-17 01:28:43.862] layer = 0  | Val Acc = 97.996 % | Elapsed = 0.767 s\n",
      "[2021-05-17 01:28:43.870] Fitting cascade layer = 1 \n",
      "[2021-05-17 01:28:44.694] layer = 1  | Val Acc = 98.144 % | Elapsed = 0.824 s\n",
      "[2021-05-17 01:28:44.699] Fitting cascade layer = 2 \n",
      "[2021-05-17 01:28:45.431] layer = 2  | Val Acc = 97.921 % | Elapsed = 0.732 s\n",
      "[2021-05-17 01:28:45.431] Early stopping counter: 1 out of 2\n",
      "[2021-05-17 01:28:45.436] Fitting cascade layer = 3 \n",
      "[2021-05-17 01:28:46.109] layer = 3  | Val Acc = 97.476 % | Elapsed = 0.673 s\n",
      "[2021-05-17 01:28:46.109] Early stopping counter: 2 out of 2\n",
      "[2021-05-17 01:28:46.109] Handling early stopping\n",
      "[2021-05-17 01:28:46.110] The optimal number of layers: 2\n",
      "[2021-05-17 01:28:46.111] Start to evalute the model:\n",
      "[2021-05-17 01:28:46.112] Evaluating cascade layer = 0 \n",
      "[2021-05-17 01:28:46.153] Evaluating cascade layer = 1 \n",
      "\n",
      "Testing Accuracy: 98.667 %\n"
     ]
    }
   ],
   "source": [
    "#warm up----using the sklearn dataset\n",
    "from sklearn.datasets import load_digits\n",
    "from sklearn.model_selection import train_test_split\n",
    "from sklearn.metrics import accuracy_score\n",
    "from deepforest import CascadeForestClassifier\n",
    "\n",
    "X, y = load_digits(return_X_y = True)\n",
    "X_train, X_test, y_train, y_test = train_test_split(X, y, random_state = 1)\n",
    "model = CascadeForestClassifier(random_state = 1)\n",
    "model.fit(X_train, y_train)\n",
    "y_pred = model.predict(X_test)\n",
    "acc = accuracy_score(y_test, y_pred) * 100\n",
    "print(\"\\nTesting Accuracy: {:.3f} %\".format(acc))\n",
    "\n"
   ]
  },
  {
   "cell_type": "code",
   "execution_count": 19,
   "metadata": {},
   "outputs": [],
   "source": [
    "import tensorflow as tf\n",
    "from tensorflow.keras.datasets import mnist\n",
    "import numpy as np\n",
    "from deepforest import CascadeForestClassifier\n",
    "\n",
    "(X_train, y_train),(X_test, y_test) = mnist.load_data()"
   ]
  },
  {
   "cell_type": "code",
   "execution_count": 22,
   "metadata": {},
   "outputs": [
    {
     "name": "stdout",
     "output_type": "stream",
     "text": [
      "[2021-05-17 01:32:40.996] Start to fit the model:\n",
      "[2021-05-17 01:32:40.996] Fitting cascade layer = 0 \n",
      "[2021-05-17 01:34:19.971] layer = 0  | Val Acc = 97.102 % | Elapsed = 98.975 s\n",
      "[2021-05-17 01:34:20.326] Fitting cascade layer = 1 \n",
      "[2021-05-17 01:35:52.277] layer = 1  | Val Acc = 97.515 % | Elapsed = 91.951 s\n",
      "[2021-05-17 01:35:52.555] Fitting cascade layer = 2 \n",
      "[2021-05-17 01:37:26.216] layer = 2  | Val Acc = 97.718 % | Elapsed = 93.661 s\n",
      "[2021-05-17 01:37:26.466] Fitting cascade layer = 3 \n",
      "[2021-05-17 01:38:57.639] layer = 3  | Val Acc = 97.793 % | Elapsed = 91.173 s\n",
      "[2021-05-17 01:38:57.896] Fitting cascade layer = 4 \n",
      "[2021-05-17 01:40:30.492] layer = 4  | Val Acc = 97.855 % | Elapsed = 92.595 s\n",
      "[2021-05-17 01:40:30.729] Fitting cascade layer = 5 \n",
      "[2021-05-17 01:41:58.340] layer = 5  | Val Acc = 97.852 % | Elapsed = 87.611 s\n",
      "[2021-05-17 01:41:58.341] Early stopping counter: 1 out of 2\n",
      "[2021-05-17 01:41:58.585] Fitting cascade layer = 6 \n",
      "[2021-05-17 01:43:25.995] layer = 6  | Val Acc = 97.887 % | Elapsed = 87.410 s\n",
      "[2021-05-17 01:43:26.239] Fitting cascade layer = 7 \n",
      "[2021-05-17 01:44:55.123] layer = 7  | Val Acc = 97.882 % | Elapsed = 88.884 s\n",
      "[2021-05-17 01:44:55.124] Early stopping counter: 1 out of 2\n",
      "[2021-05-17 01:44:55.414] Fitting cascade layer = 8 \n",
      "[2021-05-17 01:46:32.860] layer = 8  | Val Acc = 97.923 % | Elapsed = 97.445 s\n",
      "[2021-05-17 01:46:33.103] Fitting cascade layer = 9 \n",
      "[2021-05-17 01:48:00.781] layer = 9  | Val Acc = 97.937 % | Elapsed = 87.678 s\n",
      "[2021-05-17 01:48:01.024] Fitting cascade layer = 10\n",
      "[2021-05-17 01:49:28.044] layer = 10 | Val Acc = 97.913 % | Elapsed = 87.020 s\n",
      "[2021-05-17 01:49:28.044] Early stopping counter: 1 out of 2\n",
      "[2021-05-17 01:49:28.287] Fitting cascade layer = 11\n",
      "[2021-05-17 01:50:59.226] layer = 11 | Val Acc = 97.907 % | Elapsed = 90.938 s\n",
      "[2021-05-17 01:50:59.226] Early stopping counter: 2 out of 2\n",
      "[2021-05-17 01:50:59.226] Handling early stopping\n",
      "[2021-05-17 01:50:59.254] The optimal number of layers: 10\n",
      "[2021-05-17 01:50:59.293] Start to evalute the model:\n",
      "[2021-05-17 01:50:59.640] Evaluating cascade layer = 0 \n",
      "[2021-05-17 01:51:00.738] Evaluating cascade layer = 1 \n",
      "[2021-05-17 01:51:01.796] Evaluating cascade layer = 2 \n",
      "[2021-05-17 01:51:02.944] Evaluating cascade layer = 3 \n",
      "[2021-05-17 01:51:04.068] Evaluating cascade layer = 4 \n",
      "[2021-05-17 01:51:05.007] Evaluating cascade layer = 5 \n",
      "[2021-05-17 01:51:05.965] Evaluating cascade layer = 6 \n",
      "[2021-05-17 01:51:06.907] Evaluating cascade layer = 7 \n",
      "[2021-05-17 01:51:07.867] Evaluating cascade layer = 8 \n",
      "[2021-05-17 01:51:08.814] Evaluating cascade layer = 9 \n",
      "\n",
      "Testing Accuracy: 98.170 %\n"
     ]
    }
   ],
   "source": [
    "X_train = X_train.reshape((-1, 784))\n",
    "X_train = X_train.astype('float32') / 255\n",
    "\n",
    "X_test = X_test.reshape((-1, 784))\n",
    "X_test = X_test.astype('float32') / 255\n",
    "\n",
    "from sklearn.metrics import accuracy_score\n",
    "from deepforest import CascadeForestClassifier\n",
    "\n",
    "model = CascadeForestClassifier(random_state = 1)\n",
    "model.fit(X_train, y_train)\n",
    "y_pred = model.predict(X_test)\n",
    "acc = accuracy_score(y_test, y_pred) * 100\n",
    "print(\"\\nTesting Accuracy: {:.3f} %\".format(acc))"
   ]
  },
  {
   "cell_type": "code",
   "execution_count": null,
   "metadata": {},
   "outputs": [],
   "source": []
  }
 ],
 "metadata": {
  "kernelspec": {
   "display_name": "Python 3.6.8 64-bit (virtualenv)",
   "language": "python",
   "name": "python36864bitvirtualenv66f9f4c7ba8b402e911da33be31708e4"
  },
  "language_info": {
   "codemirror_mode": {
    "name": "ipython",
    "version": 3
   },
   "file_extension": ".py",
   "mimetype": "text/x-python",
   "name": "python",
   "nbconvert_exporter": "python",
   "pygments_lexer": "ipython3",
   "version": "3.6.8"
  }
 },
 "nbformat": 4,
 "nbformat_minor": 2
}
