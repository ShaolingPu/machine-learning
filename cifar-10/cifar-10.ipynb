{
 "cells": [
  {
   "cell_type": "code",
   "execution_count": 69,
   "metadata": {},
   "outputs": [],
   "source": [
    "#-*- coding: utf-8 -*-\n",
    "def unpickle(file):\n",
    "    import pickle\n",
    "    with open(file, 'rb') as fo:\n",
    "        dict = pickle.load(fo, encoding='bytes')\n",
    "    return dict\n",
    "\n",
    "data_batch1 = unpickle('data/data_batch_1')\n",
    "\n",
    "data = []\n",
    "labels = []\n",
    "\n",
    "for i in range(1, 6):\n",
    "    data_batch_i = unpickle('data/data_batch_%d' % i)\n",
    "    data.extend(data_batch_i[b'data'])\n",
    "    labels.extend(data_batch_i[b'labels'])\n"
   ]
  },
  {
   "cell_type": "code",
   "execution_count": 70,
   "metadata": {},
   "outputs": [
    {
     "name": "stdout",
     "output_type": "stream",
     "text": [
      "(50000,)\n",
      "(50000, 3072)\n"
     ]
    }
   ],
   "source": [
    "import numpy as np\n",
    "data = np.array(data, dtype = np.float32) / 255\n",
    "labels = np.array(labels)\n",
    "print(labels.shape)\n",
    "print(data.shape)"
   ]
  },
  {
   "cell_type": "code",
   "execution_count": 71,
   "metadata": {},
   "outputs": [
    {
     "name": "stdout",
     "output_type": "stream",
     "text": [
      "(50000, 10)\n",
      "(50000, 32, 32, 3)\n"
     ]
    }
   ],
   "source": [
    "data = data.reshape((-1, 32, 32, 3))\n",
    "labels = np.eye(10)[labels]\n",
    "print(labels.shape)\n",
    "print(data.shape)"
   ]
  },
  {
   "cell_type": "code",
   "execution_count": 72,
   "metadata": {},
   "outputs": [],
   "source": [
    "x_train = data[:40000, :, :, :]\n",
    "y_train = labels[:40000, :]\n",
    "x_test = data[40000:, :, :, :]\n",
    "y_test = labels[40000:, :]"
   ]
  },
  {
   "cell_type": "code",
   "execution_count": 76,
   "metadata": {},
   "outputs": [
    {
     "name": "stdout",
     "output_type": "stream",
     "text": [
      "Model: \"sequential_4\"\n",
      "_________________________________________________________________\n",
      "Layer (type)                 Output Shape              Param #   \n",
      "=================================================================\n",
      "conv2d_8 (Conv2D)            (None, 32, 32, 32)        2432      \n",
      "_________________________________________________________________\n",
      "max_pooling2d_8 (MaxPooling2 (None, 16, 16, 32)        0         \n",
      "_________________________________________________________________\n",
      "conv2d_9 (Conv2D)            (None, 16, 16, 64)        51264     \n",
      "_________________________________________________________________\n",
      "max_pooling2d_9 (MaxPooling2 (None, 8, 8, 64)          0         \n",
      "_________________________________________________________________\n",
      "conv2d_10 (Conv2D)           (None, 8, 8, 128)         73856     \n",
      "_________________________________________________________________\n",
      "max_pooling2d_10 (MaxPooling (None, 4, 4, 128)         0         \n",
      "_________________________________________________________________\n",
      "flatten_2 (Flatten)          (None, 2048)              0         \n",
      "_________________________________________________________________\n",
      "dropout_3 (Dropout)          (None, 2048)              0         \n",
      "_________________________________________________________________\n",
      "dense_5 (Dense)              (None, 512)               1049088   \n",
      "_________________________________________________________________\n",
      "dense_6 (Dense)              (None, 10)                5130      \n",
      "=================================================================\n",
      "Total params: 1,181,770\n",
      "Trainable params: 1,181,770\n",
      "Non-trainable params: 0\n",
      "_________________________________________________________________\n"
     ]
    }
   ],
   "source": [
    "import tensorflow as tf\n",
    "\n",
    "from tensorflow.keras import layers, Sequential\n",
    "\n",
    "model = Sequential()\n",
    "\n",
    "model.add(layers.Conv2D(32, 5, strides = [1, 1], padding = 'same', activation = 'relu', input_shape = (32, 32, 3)))\n",
    "model.add(layers.MaxPool2D(pool_size = (2, 2), strides = [2, 2], padding = 'same'))\n",
    "\n",
    "model.add(layers.Conv2D(64, 5, strides = [1, 1], padding = 'same', activation = 'relu'))\n",
    "model.add(layers.MaxPool2D(pool_size = (2, 2), strides = [2, 2], padding = 'same'))\n",
    "\n",
    "model.add(layers.Conv2D(128, 3, strides = [1, 1], padding = 'same', activation = 'relu'))\n",
    "model.add(layers.MaxPool2D(pool_size = (2, 2), strides = [2, 2], padding = 'same'))\n",
    "\n",
    "model.add(layers.Flatten())\n",
    "model.add(layers.Dropout(0.5))\n",
    "\n",
    "model.add(layers.Dense(512, activation = 'relu'))\n",
    "model.add(layers.Dense(10, activation = 'softmax'))\n",
    "\n",
    "model.summary()"
   ]
  },
  {
   "cell_type": "code",
   "execution_count": 77,
   "metadata": {},
   "outputs": [
    {
     "name": "stdout",
     "output_type": "stream",
     "text": [
      "Epoch 1/20\n",
      "313/313 [==============================] - 65s 207ms/step - loss: 2.0850 - acc: 0.2355\n",
      "Epoch 2/20\n",
      "313/313 [==============================] - 68s 216ms/step - loss: 1.5904 - acc: 0.4286\n",
      "Epoch 3/20\n",
      "313/313 [==============================] - 66s 211ms/step - loss: 1.4354 - acc: 0.4914\n",
      "Epoch 4/20\n",
      "313/313 [==============================] - 67s 214ms/step - loss: 1.3240 - acc: 0.5270\n",
      "Epoch 5/20\n",
      "313/313 [==============================] - 67s 215ms/step - loss: 1.2502 - acc: 0.5558\n",
      "Epoch 6/20\n",
      "313/313 [==============================] - 72s 230ms/step - loss: 1.1762 - acc: 0.5835\n",
      "Epoch 7/20\n",
      "313/313 [==============================] - 67s 215ms/step - loss: 1.1209 - acc: 0.6037\n",
      "Epoch 8/20\n",
      "313/313 [==============================] - 69s 219ms/step - loss: 1.0681 - acc: 0.6232\n",
      "Epoch 9/20\n",
      "313/313 [==============================] - 69s 219ms/step - loss: 1.0235 - acc: 0.6362\n",
      "Epoch 10/20\n",
      "313/313 [==============================] - 68s 218ms/step - loss: 0.9774 - acc: 0.6531\n",
      "Epoch 11/20\n",
      "313/313 [==============================] - 68s 218ms/step - loss: 0.9435 - acc: 0.6646\n",
      "Epoch 12/20\n",
      "313/313 [==============================] - 69s 221ms/step - loss: 0.9058 - acc: 0.6782\n",
      "Epoch 13/20\n",
      "313/313 [==============================] - 66s 210ms/step - loss: 0.8696 - acc: 0.68975s - l\n",
      "Epoch 14/20\n",
      "313/313 [==============================] - 67s 213ms/step - loss: 0.8452 - acc: 0.6996\n",
      "Epoch 15/20\n",
      "313/313 [==============================] - 67s 215ms/step - loss: 0.8071 - acc: 0.7110\n",
      "Epoch 16/20\n",
      "313/313 [==============================] - 66s 212ms/step - loss: 0.7848 - acc: 0.7183\n",
      "Epoch 17/20\n",
      "313/313 [==============================] - 66s 212ms/step - loss: 0.7473 - acc: 0.7359\n",
      "Epoch 18/20\n",
      "313/313 [==============================] - 66s 211ms/step - loss: 0.7240 - acc: 0.7432\n",
      "Epoch 19/20\n",
      "313/313 [==============================] - 66s 211ms/step - loss: 0.7005 - acc: 0.7530\n",
      "Epoch 20/20\n",
      "313/313 [==============================] - 67s 214ms/step - loss: 0.6764 - acc: 0.7602\n",
      "313/313 [==============================] - 5s 15ms/step - loss: 1.1466 - acc: 0.6289\n",
      "test_acc: 0.6288999915122986\n"
     ]
    }
   ],
   "source": [
    "model.compile(optimizer = 'rmsprop', loss = 'categorical_crossentropy', metrics = ['acc'])\n",
    "model.fit(x_train, y_train, epochs = 20, batch_size = 128)\n",
    "\n",
    "test_loss, test_acc = model.evaluate(x_test, y_test)\n",
    "print('test_acc:', test_acc )"
   ]
  },
  {
   "cell_type": "code",
   "execution_count": null,
   "metadata": {},
   "outputs": [],
   "source": []
  }
 ],
 "metadata": {
  "kernelspec": {
   "display_name": "Python 3.6.8 64-bit (virtualenv)",
   "language": "python",
   "name": "python36864bitvirtualenv66f9f4c7ba8b402e911da33be31708e4"
  },
  "language_info": {
   "codemirror_mode": {
    "name": "ipython",
    "version": 3
   },
   "file_extension": ".py",
   "mimetype": "text/x-python",
   "name": "python",
   "nbconvert_exporter": "python",
   "pygments_lexer": "ipython3",
   "version": "3.6.8"
  }
 },
 "nbformat": 4,
 "nbformat_minor": 2
}
